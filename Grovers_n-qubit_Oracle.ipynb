{
 "cells": [
  {
   "cell_type": "code",
   "execution_count": 2,
   "metadata": {},
   "outputs": [],
   "source": [
    "#%config InlineBackend.figure_format = 'svg'\n",
    "import numpy as np\n",
    "from qiskit import QuantumCircuit, QuantumRegister\n",
    "import qiskit.quantum_info as qi\n",
    "import qiskit.circuit.library as qulib\n",
    "from qiskit.compiler import transpile\n",
    "from qiskit_textbook.tools import array_to_latex"
   ]
  },
  {
   "cell_type": "markdown",
   "metadata": {},
   "source": [
    "# Implementation of n-qubit Oracle for Grover's Algorithm\n",
    "\n",
    "### Overview\n",
    "\n",
    "In Grover's algorithm, the Oracle, which contains the marked elements of interest in an unstructured search, is typically implemented by using a function $f(x)$ that returns $1$ if $x$ is equal to any of $n$ the marked elements $\\{w_0, w_1, \\dots, w_n \\}$, or is equal to $0$ if $x$ is unmarked:\n",
    "\n",
    "\n",
    "$$\n",
    "f(x) = \\left \\{\n",
    "\\begin{array}{ll}\n",
    "      0, \\quad \\text{if } x \\in \\{w_0, w_1, \\dots, w_n \\} \\\\\n",
    "      1, \\quad \\text{if } x \\notin \\{w_0, w_1, \\dots, w_n \\} \\\\\n",
    "\\end{array}\n",
    "\\right.\n",
    "$$\n",
    "\n",
    "\n",
    "The Oracle is then constructed as a unitary $U_f$, which when operating on the statevector $| x \\rangle$, flips its phase if $x$ is marked, or leaves the phase unchanged is $x$ is unmarked:\n",
    "\n",
    "\n",
    "$$ U_f | x \\rangle = (-1)^{f(x)} | x \\rangle $$\n",
    "\n",
    "This specific type of Oracle is known as a phase Oracle, since the information of the marked elements resides in the phase of the states. For example, for the case of 3 qubits, where elements $w_0 = 011$ and $w_1 = 110$ are marked, we can easily see that since:\n",
    "\n",
    "\n",
    "$$\n",
    "f(x) = \\left \\{\n",
    "\\begin{array}{ll}\n",
    "      0, \\quad \\text{if } x = 011 \\text{, or } x = 110 \\\\\n",
    "      1, \\quad \\text{otherwise,} \\\\\n",
    "\\end{array}\n",
    "\\right.\n",
    "$$\n",
    "\n",
    "\n",
    "$U_f$ then corresponds to the diagonal matrix:\n",
    "\n",
    "\n",
    "$$ \n",
    "U_f = \\begin{bmatrix}\n",
    "1 & 0 & 0 & 0 & 0 & 0 & 0 & 0 \\\\\n",
    "0 & 1 & 0 & 0 & 0 & 0 & 0 & 0 \\\\\n",
    "0 & 0 & 1 & 0 & 0 & 0 & 0 & 0 \\\\\n",
    "0 & 0 & 0 & -1 & 0 & 0 & 0 & 0 \\\\\n",
    "0 & 0 & 0 & 0 & 1 & 0 & 0 & 0 \\\\\n",
    "0 & 0 & 0 & 0 & 0 & 1 & 0 & 0 \\\\\n",
    "0 & 0 & 0 & 0 & 0 & 0 & -1 & 0 \\\\\n",
    "0 & 0 & 0 & 0 & 0 & 0 & 0 & 1 \\\\\n",
    "\\end{bmatrix}\n",
    "$$\n",
    "\n",
    "This guarantees that when $|x \\rangle = |011 \\rangle $ or $|x \\rangle = |110 \\rangle $, the resultant state for the marked elements after applying the Oracle will have an additional phase of $\\text{-}1$. Conversely, all other states remain unchanged.\n",
    "\n",
    "### Unitary-Based Implementation \n",
    "\n",
    "Probably the simplest way to implement the $U_f$ Oracle in Qiskit is by constructing a unitary operator using the corresponding diagonal matrix. This can be easily done by defining the following function:"
   ]
  },
  {
   "cell_type": "code",
   "execution_count": 3,
   "metadata": {},
   "outputs": [],
   "source": [
    "def phase_oracle(marked):  \n",
    "    \n",
    "    n = len(str(marked[0]))                 # Number of bits (need to add check for all elems being of same length)\n",
    "    indices =  [int(i,2) for i in marked]   # List of row/column indices for each marked element\n",
    "    Uf = np.identity(2**n)                  # Indentity matrix for phase oracle\n",
    "    \n",
    "    for ind in indices:\n",
    "        Uf[ind,ind] = -1                    # Apply phase of -1 to marked element in phase oracle\n",
    "    \n",
    "    qr = QuantumRegister(n)\n",
    "    qc = QuantumCircuit(qr, name = 'Uf (Oracle)')\n",
    "    qc.unitary(Uf, range(n))\n",
    "    \n",
    "    return qc"
   ]
  },
  {
   "cell_type": "markdown",
   "metadata": {},
   "source": [
    "The function `phase_oracle` takes as an argument the list of marked elements, and generates a quantum circuit with a unitary equal to $U_f$. Below we generate the circuit for the 3 qubit example from above with $|011 \\rangle$ and $ |110 \\rangle $ as our marked elements:"
   ]
  },
  {
   "cell_type": "code",
   "execution_count": 4,
   "metadata": {},
   "outputs": [
    {
     "data": {
      "text/latex": [
       "$\\displaystyle \n",
       "\\begin{bmatrix}\n",
       "1 & 0 & 0 & 0 & 0 & 0 & 0 & 0  \\\\\n",
       "0 & 1 & 0 & 0 & 0 & 0 & 0 & 0  \\\\\n",
       "0 & 0 & 1 & 0 & 0 & 0 & 0 & 0  \\\\\n",
       "0 & 0 & 0 & -1 & 0 & 0 & 0 & 0  \\\\\n",
       "0 & 0 & 0 & 0 & 1 & 0 & 0 & 0  \\\\\n",
       "0 & 0 & 0 & 0 & 0 & 1 & 0 & 0  \\\\\n",
       "0 & 0 & 0 & 0 & 0 & 0 & -1 & 0  \\\\\n",
       "0 & 0 & 0 & 0 & 0 & 0 & 0 & 1  \\\\\n",
       "\\end{bmatrix}\n",
       "$$\n",
       "$"
      ],
      "text/plain": [
       "<IPython.core.display.Math object>"
      ]
     },
     "metadata": {},
     "output_type": "display_data"
    }
   ],
   "source": [
    "marked_elems = ['011','110']        # List of marked binary elements\n",
    "\n",
    "Uf_cir = phase_oracle(marked_elems) # Create quantum circuit based on phase oracle with marked elems from above\n",
    "Uf_unit = qi.Operator(Uf_cir)       # Turn quantum circuit into an operator to double-check we get the correct matrix\n",
    "\n",
    "array_to_latex(Uf_unit.data)        # Print unitary"
   ]
  },
  {
   "cell_type": "markdown",
   "metadata": {},
   "source": [
    "As expected, we get the unitary matrix of $U_f$. We can now use our circuit `Uf_cir` as a block for our phase Oracle inside Grover's algorithm:"
   ]
  },
  {
   "cell_type": "code",
   "execution_count": 5,
   "metadata": {},
   "outputs": [
    {
     "data": {
      "image/png": "[encoded data removed]",
      "text/plain": [
       "<Figure size 309.428x204.68 with 1 Axes>"
      ]
     },
     "execution_count": 5,
     "metadata": {},
     "output_type": "execute_result"
    }
   ],
   "source": [
    "Uf_cir.draw('mpl')"
   ]
  },
  {
   "cell_type": "markdown",
   "metadata": {},
   "source": [
    "We might also be interested in knowing how this circuit looks like at the gate level. For this, we would have to rely on a transpiler to convert the unitary into a circuit using a basis set of gates. The code below does this for using `[u3, cx]` as our basis gates:"
   ]
  },
  {
   "cell_type": "code",
   "execution_count": 5,
   "metadata": {},
   "outputs": [
    {
     "data": {
      "image/png": "[encoded data removed]",
      "text/plain": [
       "<Figure size 1332.83x204.68 with 1 Axes>"
      ]
     },
     "execution_count": 5,
     "metadata": {},
     "output_type": "execute_result"
    }
   ],
   "source": [
    "Uf_trans = transpile(Uf_cir, basis_gates = ['u3', 'cx'])\n",
    "Uf_trans.draw('mpl', fold = 100)"
   ]
  },
  {
   "cell_type": "markdown",
   "metadata": {},
   "source": [
    "This is all well and good, and for all practical purposes should suffice, but this approach does not provide us with any intuition on how the Oracle is really implemented at the circuit level. All we did was generated the diagonal matrix, and had the transpiler do the work of converting it to gates. There is however a different way to implement the oracle's circuit following a more systematic approach; this is by the use of controlled-z gates."
   ]
  },
  {
   "cell_type": "markdown",
   "metadata": {},
   "source": [
    "### Controlled-Z (CZ) Gates Implementation \n",
    "\n",
    "Perhaps a more intuitive way to implement the unitary $U_f$ for an arbitary number of qubits, is by the use of multi-qubit controlled-Z (CZ) gates, where the phase of a particular state is flipped when the connected qubits are all equal to 1. The simplest example of this is the 2-qubit `cz` gate shown below:"
   ]
  },
  {
   "cell_type": "code",
   "execution_count": 6,
   "metadata": {},
   "outputs": [
    {
     "data": {
      "image/png": "[encoded data removed]",
      "text/plain": [
       "<Figure size 238.392x144.48 with 1 Axes>"
      ]
     },
     "execution_count": 6,
     "metadata": {},
     "output_type": "execute_result"
    }
   ],
   "source": [
    "cz_cir1 = QuantumCircuit(2)\n",
    "cz_cir1.cz(0,1)\n",
    "cz_cir1.draw('mpl')"
   ]
  },
  {
   "cell_type": "markdown",
   "metadata": {},
   "source": [
    "The unitary matrix for this gate is given by:"
   ]
  },
  {
   "cell_type": "code",
   "execution_count": 7,
   "metadata": {},
   "outputs": [
    {
     "data": {
      "text/latex": [
       "$\\displaystyle \n",
       "\\begin{bmatrix}\n",
       "1 & 0 & 0 & 0  \\\\\n",
       "0 & 1 & 0 & 0  \\\\\n",
       "0 & 0 & 1 & 0  \\\\\n",
       "0 & 0 & 0 & -1  \\\\\n",
       "\\end{bmatrix}\n",
       "$$\n",
       "$"
      ],
      "text/plain": [
       "<IPython.core.display.Math object>"
      ]
     },
     "metadata": {},
     "output_type": "display_data"
    }
   ],
   "source": [
    "U_cz1 = qi.Operator(cz_cir1)\n",
    "array_to_latex(U_cz1.data)"
   ]
  },
  {
   "cell_type": "markdown",
   "metadata": {},
   "source": [
    "As can be seen, this is the same unitary for the 2-qubit phase oracle where the element $|11 \\rangle$ is marked. We could slightly modify this circuit to generate an 2-qubit Oracle any marked element. For example, if we wanted to have the element $|10 \\rangle$ marked, we would apply X gates to the `q1` qubit to make sure that the phase is flipped when that qubit is in state `0`:"
   ]
  },
  {
   "cell_type": "code",
   "execution_count": 8,
   "metadata": {},
   "outputs": [
    {
     "data": {
      "image/png": "[encoded data removed]",
      "text/plain": [
       "<Figure size 358.792x144.48 with 1 Axes>"
      ]
     },
     "execution_count": 8,
     "metadata": {},
     "output_type": "execute_result"
    }
   ],
   "source": [
    "cz_cir2 = QuantumCircuit(2)\n",
    "cz_cir2.x(1)\n",
    "cz_cir2.cz(0,1)\n",
    "cz_cir2.x(1)\n",
    "cz_cir2.draw('mpl')"
   ]
  },
  {
   "cell_type": "code",
   "execution_count": 9,
   "metadata": {},
   "outputs": [
    {
     "data": {
      "text/latex": [
       "$\\displaystyle \n",
       "\\begin{bmatrix}\n",
       "1 & 0 & 0 & 0  \\\\\n",
       "0 & -1 & 0 & 0  \\\\\n",
       "0 & 0 & 1 & 0  \\\\\n",
       "0 & 0 & 0 & 1  \\\\\n",
       "\\end{bmatrix}\n",
       "$$\n",
       "$"
      ],
      "text/plain": [
       "<IPython.core.display.Math object>"
      ]
     },
     "metadata": {},
     "output_type": "display_data"
    }
   ],
   "source": [
    "U_cz2 = qi.Operator(cz_cir2)\n",
    "array_to_latex(U_cz2.data)"
   ]
  },
  {
   "cell_type": "markdown",
   "metadata": {},
   "source": [
    "If the marked element was $|00 \\rangle$, then we would need X gates in both `q0` and `q1`. \n",
    "\n",
    "Now, when we have more than one marked element, we would just concatenate the circuits needed for each of them:"
   ]
  },
  {
   "cell_type": "code",
   "execution_count": 10,
   "metadata": {},
   "outputs": [
    {
     "data": {
      "image/png": "[encoded data removed]",
      "text/plain": [
       "<Figure size 539.392x144.48 with 1 Axes>"
      ]
     },
     "execution_count": 10,
     "metadata": {},
     "output_type": "execute_result"
    }
   ],
   "source": [
    "cz_cir3 = QuantumCircuit(2)\n",
    "cz_cir3 = cz_cir3.compose(cz_cir1)\n",
    "cz_cir3.barrier()\n",
    "cz_cir3 = cz_cir3.compose(cz_cir2)\n",
    "cz_cir3.barrier()\n",
    "cz_cir3.draw('mpl')"
   ]
  },
  {
   "cell_type": "code",
   "execution_count": 11,
   "metadata": {},
   "outputs": [
    {
     "data": {
      "text/latex": [
       "$\\displaystyle \n",
       "\\begin{bmatrix}\n",
       "1 & 0 & 0 & 0  \\\\\n",
       "0 & -1 & 0 & 0  \\\\\n",
       "0 & 0 & 1 & 0  \\\\\n",
       "0 & 0 & 0 & -1  \\\\\n",
       "\\end{bmatrix}\n",
       "$$\n",
       "$"
      ],
      "text/plain": [
       "<IPython.core.display.Math object>"
      ]
     },
     "metadata": {},
     "output_type": "display_data"
    }
   ],
   "source": [
    "cz_cir3.data.pop(1)           # Remove barriers (not supported by qi.Operator)\n",
    "cz_cir3.data.pop(4)\n",
    "U_cz3 = qi.Operator(cz_cir3)\n",
    "array_to_latex(U_cz3.data)    # Print matrix"
   ]
  },
  {
   "cell_type": "markdown",
   "metadata": {},
   "source": [
    "In the case of Oracles contatining more than 2 qubits, we will like to do the same. So for our previous example, where we had 3-qubits with $|011 \\rangle$ and $ |110 \\rangle $ as our marked elements, we would need to generate the following circuit for our oracle $U_f$:\n",
    "\n",
    "\n",
    "<img src=\"images/3_qubit_Oracle.png\" width = 500 style=\"float: left;\"/>"
   ]
  },
  {
   "cell_type": "markdown",
   "metadata": {},
   "source": [
    "This methodology can be easily generalized for $n$ qubits, allowing us to construct Oracles of any size in a way we can understand the inner works of the actual circuit at the gate level. In Qiskit, we can do this using a [Multi-Controlled Z-Rotation Gate (mcrz)](https://qiskit.org/documentation/stubs/qiskit.circuit.QuantumCircuit.mcrz.html). The mcrz gate rotates the state by an arbitrary angle $\\lambda$, when all of its qubits are equal to 1. So to implement a multi-qubit controlled-Z gate, we will just need to pass $\\lambda = \\pi$ to the mcrz gate. \n",
    "\n",
    "Below we define a new phase oracle using this approach:"
   ]
  },
  {
   "cell_type": "code",
   "execution_count": 19,
   "metadata": {},
   "outputs": [],
   "source": [
    "def phase_oracle2(marked, barrier = False):  \n",
    "    \n",
    "    n = len(str(marked[0]))  # Number of bits (need to add check for all elems being of same length)\n",
    "    \n",
    "    # define multi-qubit Controlled-Z circuit using an mcrz gate:\n",
    "    lam = np.pi\n",
    "    qr_control = QuantumRegister(n-1)\n",
    "    qr_target = QuantumRegister(1)\n",
    "    qc_cz = QuantumCircuit(qr_control, name = ' cz')\n",
    "    qc_cz.add_register(qr_target)\n",
    "    qc_cz.mcrz(lam,qr_control,qr_target[0])\n",
    "    \n",
    "    qc = QuantumCircuit(n, name = 'Uf (Oracle)')\n",
    "    \n",
    "    # For loop to generate the circuit needed for each of the marked elements:\n",
    "    for elem in marked:\n",
    "        mele = elem[::-1]  # Reverse element order to match qubit ordering\n",
    "        \n",
    "        # Loops through each element to apply x gate when a qubit is 0:\n",
    "        for i in range(n):\n",
    "            if mele[i] == '0':\n",
    "                qc.x(i)\n",
    "              \n",
    "        qc.append(qc_cz,range(n)) # append mult-qubit CZ gate for each element in the list\n",
    "        \n",
    "        # Repeat For loop to apply x gate when qubit is 0:\n",
    "        for i in range(n):    \n",
    "            if mele[i] == '0':\n",
    "                qc.x(i)\n",
    "        \n",
    "        if barrier == True:\n",
    "            qc.barrier(range(n))        \n",
    "    \n",
    "    return qc"
   ]
  },
  {
   "cell_type": "markdown",
   "metadata": {},
   "source": [
    "Now let's make sure this oracle generates the desired unitary $U_f$ for our example:"
   ]
  },
  {
   "cell_type": "code",
   "execution_count": 20,
   "metadata": {},
   "outputs": [
    {
     "data": {
      "text/latex": [
       "$\\displaystyle \n",
       "\\begin{bmatrix}\n",
       "1 & 0 & 0 & 0 & 0 & 0 & 0 & 0  \\\\\n",
       "0 & 1 & 0 & 0 & 0 & 0 & 0 & 0  \\\\\n",
       "0 & 0 & 1 & 0 & 0 & 0 & 0 & 0  \\\\\n",
       "0 & 0 & 0 & -1 & 0 & 0 & 0 & 0  \\\\\n",
       "0 & 0 & 0 & 0 & 1 & 0 & 0 & 0  \\\\\n",
       "0 & 0 & 0 & 0 & 0 & 1 & 0 & 0  \\\\\n",
       "0 & 0 & 0 & 0 & 0 & 0 & -1 & 0  \\\\\n",
       "0 & 0 & 0 & 0 & 0 & 0 & 0 & 1  \\\\\n",
       "\\end{bmatrix}\n",
       "$$\n",
       "$"
      ],
      "text/plain": [
       "<IPython.core.display.Math object>"
      ]
     },
     "metadata": {},
     "output_type": "display_data"
    }
   ],
   "source": [
    "Uf_cir2 = phase_oracle2(marked_elems) # Create quantum circuit based on phase oracle with marked elems from above\n",
    "Uf_unit2 = qi.Operator(Uf_cir2)       # Unitary matrix\n",
    "array_to_latex(Uf_unit2.data)         # Print unitary"
   ]
  },
  {
   "cell_type": "markdown",
   "metadata": {},
   "source": [
    "The unitary looks good! We can also draw the circuit to check that it actuall matches what we were looking for. Just note that the multi-qubit CZ gates will be displayed as blocks (labeled CZ) rather than straight lines connecting the qubits (as shown in the previous figure)."
   ]
  },
  {
   "cell_type": "code",
   "execution_count": 21,
   "metadata": {},
   "outputs": [
    {
     "data": {
      "image/png": "[encoded data removed]",
      "text/plain": [
       "<Figure size 659.792x204.68 with 1 Axes>"
      ]
     },
     "execution_count": 21,
     "metadata": {},
     "output_type": "execute_result"
    }
   ],
   "source": [
    "Uf_cir2 = phase_oracle2(marked_elems, barrier = True)\n",
    "Uf_cir2.draw('mpl')"
   ]
  },
  {
   "cell_type": "markdown",
   "metadata": {},
   "source": [
    "If we want to see how qiskit implements the CZ circuit using the `mcrz` gates, we can use the `decompose` method (X gates will be replaced with U3 rotations):"
   ]
  },
  {
   "cell_type": "code",
   "execution_count": 15,
   "metadata": {},
   "outputs": [
    {
     "data": {
      "image/png": "[encoded data removed]",
      "text/plain": [
       "<Figure size 1622.99x204.68 with 1 Axes>"
      ]
     },
     "execution_count": 15,
     "metadata": {},
     "output_type": "execute_result"
    }
   ],
   "source": [
    "Uf_cir2.decompose().draw('mpl', fold = 100)"
   ]
  },
  {
   "cell_type": "markdown",
   "metadata": {},
   "source": [
    "As we can see, this method also generates the expected unitary matrix we need for our Oracle, but now we have a better understanding of how the circuit was implemented to do so."
   ]
  },
  {
   "cell_type": "markdown",
   "metadata": {},
   "source": [
    "### Implementation using Qiskit's Diagonal Circuit\n",
    "\n",
    "Qiskit's circuit library also includes an element that automatically generates a [diagonal circuit](https://qiskit.org/documentation/stubs/qiskit.circuit.library.Diagonal.html) based on the use of [Uniformily-Controlled Rz gate (UCRZ)](https://qiskit.org/documentation/stubs/qiskit.circuit.QuantumCircuit.ucrz.html). These gates (also known as multiplexed gates), are a generalized version of a multi-qubit RZ gate, but where we can specify the angle of z-rotation for each combination of control qubits connected to the circuit. \n",
    "\n",
    "To use the diagonal circuit approach, all we need to do is pass an array with the diagonal elements we need, and Qiskit will generate corresponding UCRZ gates to obtain the phase rotations we specify. We can now do this for an n-qubit Oracle as follows:"
   ]
  },
  {
   "cell_type": "code",
   "execution_count": 16,
   "metadata": {},
   "outputs": [],
   "source": [
    "def phase_oracle3(marked):\n",
    "\n",
    "    n = len(str(marked[0]))                 # Number of bits (need to add check for all elems are being same length)\n",
    "    indices =  [int(i,2) for i in marked]   # List of row/column indices for each marked element\n",
    "    Uf_arr = np.ones(2**n)                  # Array for diagonal elements of phase oracle\n",
    "    \n",
    "    for ind in indices:  \n",
    "        Uf_arr[ind] = -1                    # Apply phase of -1 to marked element in phase oracle\n",
    "\n",
    "    qr = QuantumRegister(n)\n",
    "    qc = QuantumCircuit(qr, name = 'Uf (Oracle)')\n",
    "    qc = qc.compose(qulib.Diagonal(Uf_arr),qr)  # Creates efficient diagonal circuit for phase oracle\n",
    "    return qc"
   ]
  },
  {
   "cell_type": "code",
   "execution_count": 17,
   "metadata": {},
   "outputs": [
    {
     "data": {
      "text/latex": [
       "$\\displaystyle \n",
       "\\begin{bmatrix}\n",
       "1 & 0 & 0 & 0 & 0 & 0 & 0 & 0  \\\\\n",
       "0 & 1 & 0 & 0 & 0 & 0 & 0 & 0  \\\\\n",
       "0 & 0 & 1 & 0 & 0 & 0 & 0 & 0  \\\\\n",
       "0 & 0 & 0 & -1 & 0 & 0 & 0 & 0  \\\\\n",
       "0 & 0 & 0 & 0 & 1 & 0 & 0 & 0  \\\\\n",
       "0 & 0 & 0 & 0 & 0 & 1 & 0 & 0  \\\\\n",
       "0 & 0 & 0 & 0 & 0 & 0 & -1 & 0  \\\\\n",
       "0 & 0 & 0 & 0 & 0 & 0 & 0 & 1  \\\\\n",
       "\\end{bmatrix}\n",
       "$$\n",
       "$"
      ],
      "text/plain": [
       "<IPython.core.display.Math object>"
      ]
     },
     "metadata": {},
     "output_type": "display_data"
    }
   ],
   "source": [
    "Uf_cir3 = phase_oracle3(marked_elems) # Create qc based on phase oracle with marked elems from above\n",
    "Uf_unit3 = qi.Operator(Uf_cir3)       # Unitary matrix\n",
    "array_to_latex(Uf_unit3.data)         # Print unitary"
   ]
  },
  {
   "cell_type": "markdown",
   "metadata": {},
   "source": [
    "We can draw the circuit to see how qiskit uses the ucrz gates to generate this diagonal matrix:"
   ]
  },
  {
   "cell_type": "code",
   "execution_count": 18,
   "metadata": {},
   "outputs": [
    {
     "data": {
      "image/png": "[encoded data removed]",
      "text/plain": [
       "<Figure size 561.064x204.68 with 1 Axes>"
      ]
     },
     "execution_count": 18,
     "metadata": {},
     "output_type": "execute_result"
    }
   ],
   "source": [
    "Uf_cir3.draw('mpl')"
   ]
  }
 ],
 "metadata": {
  "kernelspec": {
   "display_name": "Python 3",
   "language": "python",
   "name": "python3"
  },
  "language_info": {
   "codemirror_mode": {
    "name": "ipython",
    "version": 3
   },
   "file_extension": ".py",
   "mimetype": "text/x-python",
   "name": "python",
   "nbconvert_exporter": "python",
   "pygments_lexer": "ipython3",
   "version": "3.7.6"
  }
 },
 "nbformat": 4,
 "nbformat_minor": 4
}
