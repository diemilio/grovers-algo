{
 "cells": [
  {
   "cell_type": "code",
   "execution_count": 65,
   "metadata": {},
   "outputs": [],
   "source": [
    "import numpy as np\n",
    "from fractions import Fraction\n",
    "import matplotlib.pyplot as plt"
   ]
  },
  {
   "cell_type": "code",
   "execution_count": 162,
   "metadata": {},
   "outputs": [
    {
     "name": "stdout",
     "output_type": "stream",
     "text": [
      "0\n"
     ]
    }
   ],
   "source": [
    "n = 4                                 # Number of qubits\n",
    "N = 2**n                               # Number of elements\n",
    "\n",
    "elems = np.arange(N)                   # Array of elements\n",
    "#marked = np.random.choice(elems,1)[0]  # Selects random element from array (marked elem)\n",
    "marked = 0\n",
    "print(marked)"
   ]
  },
  {
   "cell_type": "code",
   "execution_count": 171,
   "metadata": {},
   "outputs": [
    {
     "data": {
      "text/plain": [
       "<BarContainer object of 16 artists>"
      ]
     },
     "execution_count": 171,
     "metadata": {},
     "output_type": "execute_result"
    },
    {
     "data": {
      "image/png": "[encoded data removed]",
      "text/plain": [
       "<Figure size 432x288 with 1 Axes>"
      ]
     },
     "metadata": {
      "needs_background": "light"
     },
     "output_type": "display_data"
    }
   ],
   "source": [
    "# Generate array of probability amplitudes, all equal to 1/(2^(n/2))\n",
    "amplitudes = 1/(2**(n/2))*np.ones(len(elems))\n",
    "#print(\"equal superposition: \", amplitudes, \"\\n\")\n",
    "\n",
    "# Perform phase inversion and inversion about the mean m times\n",
    "\n",
    "m = 9  # Number of times to perform phase inv and inv about mean\n",
    "\n",
    "for i in range(m):\n",
    "    \n",
    "    # phase inversion\n",
    "    amplitudes[marked] = -amplitudes[marked]\n",
    "    \n",
    "    # Select arbitrary unmarked element (either 0 or 1)\n",
    "    if marked == 0:\n",
    "        arb_unmrkd = 1\n",
    "    else:\n",
    "        arb_unmrkd = 0\n",
    "    \n",
    "    # calculate 2*mean\n",
    "    mean_2x = 2/N*((N-1)*amplitudes[arb_unmrkd] + amplitudes[marked])\n",
    "    \n",
    "    # Calculate new probability amplitudes after inv. about mean\n",
    "    for j in range(len(amplitudes)):\n",
    "        amplitudes[j] = mean_2x - amplitudes[j]\n",
    "        \n",
    "#print(\"after \", m, \" iterations: \", amplitudes)\n",
    "fig, ax = plt.subplots()\n",
    "ax.bar(elems,amplitudes)"
   ]
  },
  {
   "cell_type": "code",
   "execution_count": 161,
   "metadata": {},
   "outputs": [
    {
     "name": "stdout",
     "output_type": "stream",
     "text": [
      "-0.031170983680521576\n"
     ]
    }
   ],
   "source": [
    "print(amplitudes[1])"
   ]
  },
  {
   "cell_type": "code",
   "execution_count": null,
   "metadata": {},
   "outputs": [],
   "source": []
  }
 ],
 "metadata": {
  "kernelspec": {
   "display_name": "Python 3",
   "language": "python",
   "name": "python3"
  },
  "language_info": {
   "codemirror_mode": {
    "name": "ipython",
    "version": 3
   },
   "file_extension": ".py",
   "mimetype": "text/x-python",
   "name": "python",
   "nbconvert_exporter": "python",
   "pygments_lexer": "ipython3",
   "version": "3.7.6"
  }
 },
 "nbformat": 4,
 "nbformat_minor": 4
}
